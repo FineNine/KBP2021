{
 "cells": [
  {
   "cell_type": "code",
   "execution_count": 23,
   "id": "dc58ac6c",
   "metadata": {},
   "outputs": [],
   "source": [
    "import pandas as pd\n",
    "import numpy as np\n",
    "import matplotlib as plt\n",
    "import plotly as plot"
   ]
  },
  {
   "cell_type": "code",
   "execution_count": 24,
   "id": "99a8e0cf",
   "metadata": {},
   "outputs": [],
   "source": [
    "raw = pd.read_csv('raw_entries.csv', encoding='latin1')"
   ]
  },
  {
   "cell_type": "code",
   "execution_count": 25,
   "id": "d055820a",
   "metadata": {},
   "outputs": [],
   "source": [
    "valueCols = [p for p in raw.columns if \"Points\" in p]\n",
    "pickCols = [p for p in raw.columns if \"Points\" not in p]"
   ]
  },
  {
   "cell_type": "code",
   "execution_count": 26,
   "id": "3c54d9d0",
   "metadata": {},
   "outputs": [],
   "source": [
    "meltedPoints = pd.melt(raw, id_vars=['Name'], value_vars=valueCols)\n",
    "meltedPicks = pd.melt(raw, id_vars=['Name'], value_vars=pickCols)\n",
    "meltedPoints['bowl'] = meltedPoints.apply(lambda row: row.variable.replace(' Points',''), axis = 1)"
   ]
  },
  {
   "cell_type": "code",
   "execution_count": 27,
   "id": "2e08f86b",
   "metadata": {},
   "outputs": [],
   "source": [
    "picks = meltedPicks.merge(meltedPoints, left_on=['Name','variable'], right_on=['Name','bowl'])\n",
    "picks.columns = ['Name','Bowl','Pick','remove1','Spread','remove2']\n",
    "picks.drop(['remove1','remove2'], inplace=True, axis=1)"
   ]
  },
  {
   "cell_type": "code",
   "execution_count": 28,
   "id": "71bd7be8",
   "metadata": {},
   "outputs": [
    {
     "data": {
      "text/html": [
       "<div>\n",
       "<style scoped>\n",
       "    .dataframe tbody tr th:only-of-type {\n",
       "        vertical-align: middle;\n",
       "    }\n",
       "\n",
       "    .dataframe tbody tr th {\n",
       "        vertical-align: top;\n",
       "    }\n",
       "\n",
       "    .dataframe thead th {\n",
       "        text-align: right;\n",
       "    }\n",
       "</style>\n",
       "<table border=\"1\" class=\"dataframe\">\n",
       "  <thead>\n",
       "    <tr style=\"text-align: right;\">\n",
       "      <th></th>\n",
       "      <th>Name</th>\n",
       "      <th>Bowl</th>\n",
       "      <th>Pick</th>\n",
       "      <th>Spread</th>\n",
       "    </tr>\n",
       "  </thead>\n",
       "  <tbody>\n",
       "    <tr>\n",
       "      <th>0</th>\n",
       "      <td>Carl Johnson</td>\n",
       "      <td>Bahamas Bowl</td>\n",
       "      <td>Toledo (Favorite)</td>\n",
       "      <td>5.0</td>\n",
       "    </tr>\n",
       "    <tr>\n",
       "      <th>1</th>\n",
       "      <td>Todd Graves</td>\n",
       "      <td>Bahamas Bowl</td>\n",
       "      <td>Toledo (Favorite)</td>\n",
       "      <td>7.0</td>\n",
       "    </tr>\n",
       "    <tr>\n",
       "      <th>2</th>\n",
       "      <td>Jack Saundercook</td>\n",
       "      <td>Bahamas Bowl</td>\n",
       "      <td>Toledo (Favorite)</td>\n",
       "      <td>11.0</td>\n",
       "    </tr>\n",
       "    <tr>\n",
       "      <th>3</th>\n",
       "      <td>Ethan Hsu</td>\n",
       "      <td>Bahamas Bowl</td>\n",
       "      <td>Toledo (Favorite)</td>\n",
       "      <td>3.0</td>\n",
       "    </tr>\n",
       "    <tr>\n",
       "      <th>4</th>\n",
       "      <td>Christopher Head</td>\n",
       "      <td>Bahamas Bowl</td>\n",
       "      <td>Toledo (Favorite)</td>\n",
       "      <td>14.0</td>\n",
       "    </tr>\n",
       "    <tr>\n",
       "      <th>5</th>\n",
       "      <td>Paddy O'Irish</td>\n",
       "      <td>Bahamas Bowl</td>\n",
       "      <td>Toledo (Favorite)</td>\n",
       "      <td>14.0</td>\n",
       "    </tr>\n",
       "    <tr>\n",
       "      <th>6</th>\n",
       "      <td>Michael Stanley</td>\n",
       "      <td>Bahamas Bowl</td>\n",
       "      <td>Middle Tennessee State</td>\n",
       "      <td>12.0</td>\n",
       "    </tr>\n",
       "    <tr>\n",
       "      <th>7</th>\n",
       "      <td>Craig Garbarini</td>\n",
       "      <td>Bahamas Bowl</td>\n",
       "      <td>Toledo (Favorite)</td>\n",
       "      <td>10.0</td>\n",
       "    </tr>\n",
       "    <tr>\n",
       "      <th>8</th>\n",
       "      <td>Tristan Lee</td>\n",
       "      <td>Bahamas Bowl</td>\n",
       "      <td>Toledo (Favorite)</td>\n",
       "      <td>10.0</td>\n",
       "    </tr>\n",
       "    <tr>\n",
       "      <th>9</th>\n",
       "      <td>Pete Fiutak</td>\n",
       "      <td>Bahamas Bowl</td>\n",
       "      <td>Toledo (Favorite)</td>\n",
       "      <td>17.0</td>\n",
       "    </tr>\n",
       "  </tbody>\n",
       "</table>\n",
       "</div>"
      ],
      "text/plain": [
       "               Name          Bowl                    Pick  Spread\n",
       "0      Carl Johnson  Bahamas Bowl       Toledo (Favorite)     5.0\n",
       "1       Todd Graves  Bahamas Bowl       Toledo (Favorite)     7.0\n",
       "2  Jack Saundercook  Bahamas Bowl       Toledo (Favorite)    11.0\n",
       "3         Ethan Hsu  Bahamas Bowl       Toledo (Favorite)     3.0\n",
       "4  Christopher Head  Bahamas Bowl       Toledo (Favorite)    14.0\n",
       "5     Paddy O'Irish  Bahamas Bowl       Toledo (Favorite)    14.0\n",
       "6   Michael Stanley  Bahamas Bowl  Middle Tennessee State    12.0\n",
       "7   Craig Garbarini  Bahamas Bowl       Toledo (Favorite)    10.0\n",
       "8       Tristan Lee  Bahamas Bowl       Toledo (Favorite)    10.0\n",
       "9       Pete Fiutak  Bahamas Bowl       Toledo (Favorite)    17.0"
      ]
     },
     "execution_count": 28,
     "metadata": {},
     "output_type": "execute_result"
    }
   ],
   "source": [
    "picks.head(10)"
   ]
  },
  {
   "cell_type": "code",
   "execution_count": 31,
   "id": "e6960b89",
   "metadata": {},
   "outputs": [],
   "source": [
    "picks = picks.fillna(7)"
   ]
  },
  {
   "cell_type": "code",
   "execution_count": 32,
   "id": "8aedef75",
   "metadata": {},
   "outputs": [],
   "source": [
    "emails = pd.DataFrame(columns=['Name','Picks'])\n",
    "for name in picks['Name'].unique():\n",
    "    emailString = ''\n",
    "    emailString = name+'\\n'\n",
    "    for index, row in picks[picks['Name'] == name].iterrows():\n",
    "        emailString = emailString + '\\n' + row['Bowl'] + ': ' + row['Pick'] + ' by ' + str(int(row['Spread']))\n",
    "    emails = emails.append({'Name':name, 'Picks':emailString,}, ignore_index=True)"
   ]
  },
  {
   "cell_type": "code",
   "execution_count": 39,
   "id": "553d9072",
   "metadata": {},
   "outputs": [
    {
     "data": {
      "text/html": [
       "<div>\n",
       "<style scoped>\n",
       "    .dataframe tbody tr th:only-of-type {\n",
       "        vertical-align: middle;\n",
       "    }\n",
       "\n",
       "    .dataframe tbody tr th {\n",
       "        vertical-align: top;\n",
       "    }\n",
       "\n",
       "    .dataframe thead th {\n",
       "        text-align: right;\n",
       "    }\n",
       "</style>\n",
       "<table border=\"1\" class=\"dataframe\">\n",
       "  <thead>\n",
       "    <tr style=\"text-align: right;\">\n",
       "      <th></th>\n",
       "      <th>Name</th>\n",
       "      <th>Picks</th>\n",
       "      <th>Email Address</th>\n",
       "    </tr>\n",
       "  </thead>\n",
       "  <tbody>\n",
       "    <tr>\n",
       "      <th>0</th>\n",
       "      <td>Carl Johnson</td>\n",
       "      <td>Carl Johnson\\n\\nBahamas Bowl: Toledo (Favorite...</td>\n",
       "      <td>jiggabore@gmail.com</td>\n",
       "    </tr>\n",
       "    <tr>\n",
       "      <th>1</th>\n",
       "      <td>Todd Graves</td>\n",
       "      <td>Todd Graves\\n\\nBahamas Bowl: Toledo (Favorite)...</td>\n",
       "      <td>todd@starveddog.com</td>\n",
       "    </tr>\n",
       "    <tr>\n",
       "      <th>2</th>\n",
       "      <td>Jack Saundercook</td>\n",
       "      <td>Jack Saundercook\\n\\nBahamas Bowl: Toledo (Favo...</td>\n",
       "      <td>jacksaundercook@gmail.com</td>\n",
       "    </tr>\n",
       "    <tr>\n",
       "      <th>3</th>\n",
       "      <td>Ethan Hsu</td>\n",
       "      <td>Ethan Hsu\\n\\nBahamas Bowl: Toledo (Favorite) b...</td>\n",
       "      <td>ethanhsu4@gmail.com</td>\n",
       "    </tr>\n",
       "    <tr>\n",
       "      <th>4</th>\n",
       "      <td>Christopher Head</td>\n",
       "      <td>Christopher Head\\n\\nBahamas Bowl: Toledo (Favo...</td>\n",
       "      <td>cjhead35@msn.com</td>\n",
       "    </tr>\n",
       "  </tbody>\n",
       "</table>\n",
       "</div>"
      ],
      "text/plain": [
       "               Name                                              Picks  \\\n",
       "0      Carl Johnson  Carl Johnson\\n\\nBahamas Bowl: Toledo (Favorite...   \n",
       "1       Todd Graves  Todd Graves\\n\\nBahamas Bowl: Toledo (Favorite)...   \n",
       "2  Jack Saundercook  Jack Saundercook\\n\\nBahamas Bowl: Toledo (Favo...   \n",
       "3         Ethan Hsu  Ethan Hsu\\n\\nBahamas Bowl: Toledo (Favorite) b...   \n",
       "4  Christopher Head  Christopher Head\\n\\nBahamas Bowl: Toledo (Favo...   \n",
       "\n",
       "               Email Address  \n",
       "0        jiggabore@gmail.com  \n",
       "1        todd@starveddog.com  \n",
       "2  jacksaundercook@gmail.com  \n",
       "3        ethanhsu4@gmail.com  \n",
       "4           cjhead35@msn.com  "
      ]
     },
     "execution_count": 39,
     "metadata": {},
     "output_type": "execute_result"
    }
   ],
   "source": [
    "emails.head()"
   ]
  },
  {
   "cell_type": "code",
   "execution_count": 35,
   "id": "6c13a887",
   "metadata": {},
   "outputs": [
    {
     "name": "stdout",
     "output_type": "stream",
     "text": [
      "Name                                          Carl Johnson\n",
      "Picks    Carl Johnson\\n\\nBahamas Bowl: Toledo (Favorite...\n",
      "Name: 0, dtype: object\n"
     ]
    }
   ],
   "source": [
    "print(emails.iloc[0])"
   ]
  },
  {
   "cell_type": "code",
   "execution_count": 38,
   "id": "3b197b0c",
   "metadata": {},
   "outputs": [],
   "source": [
    "address = raw[['Name','Email Address']]\n",
    "emails = emails.merge(address, on='Name')"
   ]
  },
  {
   "cell_type": "code",
   "execution_count": 42,
   "id": "678246bc",
   "metadata": {},
   "outputs": [],
   "source": [
    "emails.to_excel('mailmerge_picks.xlsx', engine='xlsxwriter')"
   ]
  },
  {
   "cell_type": "markdown",
   "id": "13a6b907",
   "metadata": {},
   "source": [
    "# Name Switch"
   ]
  },
  {
   "cell_type": "code",
   "execution_count": 43,
   "id": "9c758466",
   "metadata": {},
   "outputs": [],
   "source": [
    "nameSwitch = pd.DataFrame(columns=['Name','New Name'])\n",
    "for name in picks['Name'].unique():\n",
    "    nameSwitch = nameSwitch.append({'Name':name, 'New Name': '---'}, ignore_index=True)\n",
    "    \n",
    "nameSwitch.to_csv('nameSwitch.csv', index=False)"
   ]
  },
  {
   "cell_type": "code",
   "execution_count": 44,
   "id": "c5b2da85",
   "metadata": {},
   "outputs": [],
   "source": [
    "picks.to_csv('picks.csv', index=False)"
   ]
  },
  {
   "cell_type": "code",
   "execution_count": null,
   "id": "b66f672e",
   "metadata": {},
   "outputs": [],
   "source": []
  }
 ],
 "metadata": {
  "kernelspec": {
   "display_name": "KBP_Old",
   "language": "python",
   "name": "kbp_old"
  },
  "language_info": {
   "codemirror_mode": {
    "name": "ipython",
    "version": 3
   },
   "file_extension": ".py",
   "mimetype": "text/x-python",
   "name": "python",
   "nbconvert_exporter": "python",
   "pygments_lexer": "ipython3",
   "version": "3.9.7"
  }
 },
 "nbformat": 4,
 "nbformat_minor": 5
}
